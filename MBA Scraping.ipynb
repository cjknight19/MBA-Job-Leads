{
 "cells": [
  {
   "cell_type": "code",
   "execution_count": null,
   "id": "9f1f04b5-1e58-4ddd-8b22-99604caef061",
   "metadata": {
    "colab": {
     "base_uri": "https://localhost:8080/"
    },
    "executionInfo": {
     "elapsed": 13870,
     "status": "ok",
     "timestamp": 1739990447738,
     "user": {
      "displayName": "Austin Eoriatti",
      "userId": "15956197768119358093"
     },
     "user_tz": 360
    },
    "id": "9f1f04b5-1e58-4ddd-8b22-99604caef061",
    "outputId": "46b654dd-642b-4f8f-b052-86df34a31c67"
   },
   "outputs": [],
   "source": []
  },
  {
   "cell_type": "code",
   "execution_count": null,
   "id": "ac631d6b-91b9-4733-8a8e-8d2d5a8d4ec1",
   "metadata": {
    "colab": {
     "base_uri": "https://localhost:8080/"
    },
    "executionInfo": {
     "elapsed": 4633,
     "status": "ok",
     "timestamp": 1739990461081,
     "user": {
      "displayName": "Austin Eoriatti",
      "userId": "15956197768119358093"
     },
     "user_tz": 360
    },
    "id": "ac631d6b-91b9-4733-8a8e-8d2d5a8d4ec1",
    "outputId": "dc059721-8ace-4648-b4e7-f131ec4264e0"
   },
   "outputs": [],
   "source": []
  },
  {
   "cell_type": "code",
   "execution_count": 1,
   "id": "d6aaf09f-88a3-44b0-bd7d-dc3ed4474e0d",
   "metadata": {
    "id": "d6aaf09f-88a3-44b0-bd7d-dc3ed4474e0d"
   },
   "outputs": [
    {
     "name": "stderr",
     "output_type": "stream",
     "text": [
      "C:\\Users\\Connor\\anaconda3\\Lib\\site-packages\\pandas\\core\\arrays\\masked.py:60: UserWarning: Pandas requires version '1.3.6' or newer of 'bottleneck' (version '1.3.5' currently installed).\n",
      "  from pandas.core import (\n"
     ]
    },
    {
     "ename": "FileNotFoundError",
     "evalue": "[Errno 2] No such file or directory: 'config.json'",
     "output_type": "error",
     "traceback": [
      "\u001b[1;31m---------------------------------------------------------------------------\u001b[0m",
      "\u001b[1;31mFileNotFoundError\u001b[0m                         Traceback (most recent call last)",
      "Cell \u001b[1;32mIn[1], line 57\u001b[0m\n\u001b[0;32m     54\u001b[0m     \u001b[38;5;28mprint\u001b[39m(\u001b[38;5;124mf\u001b[39m\u001b[38;5;124m\"\u001b[39m\u001b[38;5;124mSaved \u001b[39m\u001b[38;5;132;01m{\u001b[39;00m\u001b[38;5;28mlen\u001b[39m(jobs)\u001b[38;5;132;01m}\u001b[39;00m\u001b[38;5;124m new job leads to \u001b[39m\u001b[38;5;132;01m{\u001b[39;00mfilename\u001b[38;5;132;01m}\u001b[39;00m\u001b[38;5;124m\"\u001b[39m)\n\u001b[0;32m     56\u001b[0m \u001b[38;5;28;01mif\u001b[39;00m \u001b[38;5;18m__name__\u001b[39m \u001b[38;5;241m==\u001b[39m \u001b[38;5;124m\"\u001b[39m\u001b[38;5;124m__main__\u001b[39m\u001b[38;5;124m\"\u001b[39m:\n\u001b[1;32m---> 57\u001b[0m     scrape_and_save_jobs()\n",
      "Cell \u001b[1;32mIn[1], line 32\u001b[0m, in \u001b[0;36mscrape_and_save_jobs\u001b[1;34m()\u001b[0m\n\u001b[0;32m     31\u001b[0m \u001b[38;5;28;01mdef\u001b[39;00m \u001b[38;5;21mscrape_and_save_jobs\u001b[39m():\n\u001b[1;32m---> 32\u001b[0m     config \u001b[38;5;241m=\u001b[39m load_config()\n\u001b[0;32m     33\u001b[0m     jobs \u001b[38;5;241m=\u001b[39m scrape_jobs(\n\u001b[0;32m     34\u001b[0m         site_name\u001b[38;5;241m=\u001b[39mconfig[\u001b[38;5;124m\"\u001b[39m\u001b[38;5;124msite_name\u001b[39m\u001b[38;5;124m\"\u001b[39m],\n\u001b[0;32m     35\u001b[0m         search_term\u001b[38;5;241m=\u001b[39mconfig[\u001b[38;5;124m\"\u001b[39m\u001b[38;5;124msearch_term\u001b[39m\u001b[38;5;124m\"\u001b[39m],\n\u001b[1;32m   (...)\u001b[0m\n\u001b[0;32m     40\u001b[0m         country_indeed\u001b[38;5;241m=\u001b[39mconfig[\u001b[38;5;124m\"\u001b[39m\u001b[38;5;124mcountry_indeed\u001b[39m\u001b[38;5;124m\"\u001b[39m],\n\u001b[0;32m     41\u001b[0m     )\n\u001b[0;32m     43\u001b[0m     \u001b[38;5;28;01mif\u001b[39;00m jobs\u001b[38;5;241m.\u001b[39mempty:\n",
      "Cell \u001b[1;32mIn[1], line 16\u001b[0m, in \u001b[0;36mload_config\u001b[1;34m()\u001b[0m\n\u001b[0;32m     15\u001b[0m \u001b[38;5;28;01mdef\u001b[39;00m \u001b[38;5;21mload_config\u001b[39m():\n\u001b[1;32m---> 16\u001b[0m     \u001b[38;5;28;01mwith\u001b[39;00m \u001b[38;5;28mopen\u001b[39m(\u001b[38;5;124m\"\u001b[39m\u001b[38;5;124mconfig.json\u001b[39m\u001b[38;5;124m\"\u001b[39m, \u001b[38;5;124m\"\u001b[39m\u001b[38;5;124mr\u001b[39m\u001b[38;5;124m\"\u001b[39m) \u001b[38;5;28;01mas\u001b[39;00m file:\n\u001b[0;32m     17\u001b[0m         \u001b[38;5;28;01mreturn\u001b[39;00m json\u001b[38;5;241m.\u001b[39mload(file)\n",
      "File \u001b[1;32m~\\anaconda3\\Lib\\site-packages\\IPython\\core\\interactiveshell.py:284\u001b[0m, in \u001b[0;36m_modified_open\u001b[1;34m(file, *args, **kwargs)\u001b[0m\n\u001b[0;32m    277\u001b[0m \u001b[38;5;28;01mif\u001b[39;00m file \u001b[38;5;129;01min\u001b[39;00m {\u001b[38;5;241m0\u001b[39m, \u001b[38;5;241m1\u001b[39m, \u001b[38;5;241m2\u001b[39m}:\n\u001b[0;32m    278\u001b[0m     \u001b[38;5;28;01mraise\u001b[39;00m \u001b[38;5;167;01mValueError\u001b[39;00m(\n\u001b[0;32m    279\u001b[0m         \u001b[38;5;124mf\u001b[39m\u001b[38;5;124m\"\u001b[39m\u001b[38;5;124mIPython won\u001b[39m\u001b[38;5;124m'\u001b[39m\u001b[38;5;124mt let you open fd=\u001b[39m\u001b[38;5;132;01m{\u001b[39;00mfile\u001b[38;5;132;01m}\u001b[39;00m\u001b[38;5;124m by default \u001b[39m\u001b[38;5;124m\"\u001b[39m\n\u001b[0;32m    280\u001b[0m         \u001b[38;5;124m\"\u001b[39m\u001b[38;5;124mas it is likely to crash IPython. If you know what you are doing, \u001b[39m\u001b[38;5;124m\"\u001b[39m\n\u001b[0;32m    281\u001b[0m         \u001b[38;5;124m\"\u001b[39m\u001b[38;5;124myou can use builtins\u001b[39m\u001b[38;5;124m'\u001b[39m\u001b[38;5;124m open.\u001b[39m\u001b[38;5;124m\"\u001b[39m\n\u001b[0;32m    282\u001b[0m     )\n\u001b[1;32m--> 284\u001b[0m \u001b[38;5;28;01mreturn\u001b[39;00m io_open(file, \u001b[38;5;241m*\u001b[39margs, \u001b[38;5;241m*\u001b[39m\u001b[38;5;241m*\u001b[39mkwargs)\n",
      "\u001b[1;31mFileNotFoundError\u001b[0m: [Errno 2] No such file or directory: 'config.json'"
     ]
    }
   ],
   "source": [
    "import os\n",
    "import json\n",
    "import pandas as pd\n",
    "import logging\n",
    "from datetime import datetime\n",
    "from jobspy import scrape_jobs\n",
    "\n",
    "# Configure logging\n",
    "logging.basicConfig(\n",
    "    filename=\"job_scraper.log\", level=logging.INFO,\n",
    "    format=\"%(asctime)s - %(levelname)s - %(message)s\"\n",
    ")\n",
    "\n",
    "# Load search parameters from config file\n",
    "def load_config():\n",
    "    with open(\"config.json\", \"r\") as file:\n",
    "        return json.load(file)\n",
    "\n",
    "# Remove duplicates based on job title and company\n",
    "def remove_duplicates(new_jobs, history_file=\"job_history.csv\"):\n",
    "    if os.path.exists(history_file):\n",
    "        old_jobs = pd.read_csv(history_file)\n",
    "        combined = pd.concat([old_jobs, new_jobs]).drop_duplicates(subset=[\"title\", \"company\"], keep=\"last\")\n",
    "    else:\n",
    "        combined = new_jobs\n",
    "    \n",
    "    combined.to_csv(history_file, index=False)  # Update history file\n",
    "    return combined[new_jobs.columns]  # Return new unique jobs only\n",
    "\n",
    "# Run job scraper\n",
    "def scrape_and_save_jobs():\n",
    "    config = load_config()\n",
    "    jobs = scrape_jobs(\n",
    "        site_name=config[\"site_name\"],\n",
    "        search_term=config[\"search_term\"],\n",
    "        google_search_trm=config[\"google_search_term\"],\n",
    "        location=config[\"location\"],\n",
    "        results_wanted=config[\"results_wanted\"],\n",
    "        hours_old=config[\"hours_old\"],\n",
    "        country_indeed=config[\"country_indeed\"],\n",
    "    )\n",
    "    \n",
    "    if jobs.empty:\n",
    "        logging.info(\"No new jobs found.\")\n",
    "        return\n",
    "    \n",
    "    jobs = remove_duplicates(jobs)\n",
    "    \n",
    "    # Save with timestamp\n",
    "    filename = f\"job_leads_{datetime.now().strftime('%Y-%m-%d')}.xlsx\"\n",
    "    jobs.to_excel(filename, index=False)\n",
    "    \n",
    "    logging.info(f\"Saved {len(jobs)} new job leads to {filename}\")\n",
    "    print(f\"Saved {len(jobs)} new job leads to {filename}\")\n",
    "\n",
    "if __name__ == \"__main__\":\n",
    "    scrape_and_save_jobs()"
   ]
  },
  {
   "cell_type": "code",
   "execution_count": null,
   "id": "26e23901",
   "metadata": {},
   "outputs": [],
   "source": []
  }
 ],
 "metadata": {
  "colab": {
   "provenance": []
  },
  "kernelspec": {
   "display_name": "Python 3 (ipykernel)",
   "language": "python",
   "name": "python3"
  },
  "language_info": {
   "codemirror_mode": {
    "name": "ipython",
    "version": 3
   },
   "file_extension": ".py",
   "mimetype": "text/x-python",
   "name": "python",
   "nbconvert_exporter": "python",
   "pygments_lexer": "ipython3",
   "version": "3.11.4"
  }
 },
 "nbformat": 4,
 "nbformat_minor": 5
}
